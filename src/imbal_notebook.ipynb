{
 "cells": [
  {
   "cell_type": "code",
   "execution_count": 27,
   "metadata": {},
   "outputs": [],
   "source": [
    "import pandas as pd\n",
    "import numpy as np\n",
    "from sklearn.preprocessing import StandardScaler, RobustScaler\n",
    "from sklearn.model_selection import train_test_split, StratifiedKFold, cross_val_score, cross_validate\n",
    "from sklearn.metrics import classification_report, confusion_matrix #for getting CM after testing\n",
    "from sklearn.ensemble import GradientBoostingClassifier, RandomForestClassifier\n",
    "from transforms import add_labels, Preprocessing, BalanceClasses, save_and_drop_ids\n",
    "from imblearn.over_sampling import SMOTE\n",
    "from attributes import Attributes"
   ]
  },
  {
   "cell_type": "code",
   "execution_count": 2,
   "metadata": {},
   "outputs": [],
   "source": [
    "#load and label the data\n",
    "df = pd.read_csv('../data/city.csv', low_memory=False)\n",
    "df['assessor_id'] = df['assessor_id'].str[1:]\n",
    "df = add_labels(df)"
   ]
  },
  {
   "cell_type": "code",
   "execution_count": 3,
   "metadata": {},
   "outputs": [],
   "source": [
    "clean = Preprocessing()\n",
    "df = clean.transform(df)"
   ]
  },
  {
   "cell_type": "code",
   "execution_count": 4,
   "metadata": {},
   "outputs": [
    {
     "data": {
      "text/plain": [
       "(17351, 207)"
      ]
     },
     "execution_count": 4,
     "metadata": {},
     "output_type": "execute_result"
    }
   ],
   "source": [
    "df.shape"
   ]
  },
  {
   "cell_type": "code",
   "execution_count": 5,
   "metadata": {},
   "outputs": [],
   "source": [
    "# Save and drop identifying info\n",
    "data, identity_df = save_and_drop_ids(df)"
   ]
  },
  {
   "cell_type": "code",
   "execution_count": 7,
   "metadata": {},
   "outputs": [
    {
     "data": {
      "text/plain": [
       "(17351, 203)"
      ]
     },
     "execution_count": 7,
     "metadata": {},
     "output_type": "execute_result"
    }
   ],
   "source": [
    "data.shape"
   ]
  },
  {
   "cell_type": "code",
   "execution_count": 8,
   "metadata": {},
   "outputs": [],
   "source": [
    "# Scale numerical features\n",
    "cols_to_scale = Attributes().get_num_attribs()\n",
    "scaler = RobustScaler()\n",
    "data[cols_to_scale] = scaler.fit_transform(data[cols_to_scale])"
   ]
  },
  {
   "cell_type": "code",
   "execution_count": 10,
   "metadata": {},
   "outputs": [],
   "source": [
    "# Split the data\n",
    "y = data.pop('labels')\n",
    "X = data\n",
    "X_train, X_test, y_train, y_test = train_test_split(X, y, test_size=0.30)"
   ]
  },
  {
   "cell_type": "code",
   "execution_count": 12,
   "metadata": {},
   "outputs": [],
   "source": [
    "# Balance classes before training\n",
    "sm = SMOTE(random_state=42, ratio={1:6972}, n_jobs=-1)"
   ]
  },
  {
   "cell_type": "code",
   "execution_count": 13,
   "metadata": {},
   "outputs": [],
   "source": [
    "X_train_res, y_train_res = sm.fit_sample(X_train, y_train)"
   ]
  },
  {
   "cell_type": "code",
   "execution_count": 14,
   "metadata": {},
   "outputs": [
    {
     "name": "stdout",
     "output_type": "stream",
     "text": [
      "(17351,) (12145,) (17981,)\n",
      "(17351, 202) (12145, 202) (17981, 202)\n"
     ]
    }
   ],
   "source": [
    "print(y.shape, y_train.shape, y_train_res.shape)\n",
    "print(X.shape, X_train.shape, X_train_res.shape)"
   ]
  },
  {
   "cell_type": "code",
   "execution_count": 15,
   "metadata": {},
   "outputs": [],
   "source": [
    "model = GradientBoostingClassifier(\n",
    "        subsample=0.95,\n",
    "        n_estimators=200,\n",
    "        min_weight_fraction_leaf=0.01,\n",
    "        min_samples_split=15,\n",
    "        min_samples_leaf=30,\n",
    "        min_impurity_decrease=0.01,\n",
    "        max_leaf_nodes=10,\n",
    "        max_features=15,\n",
    "        max_depth=12,\n",
    "        learning_rate=0.05\n",
    ")"
   ]
  },
  {
   "cell_type": "code",
   "execution_count": 17,
   "metadata": {},
   "outputs": [],
   "source": [
    "cv_folds = StratifiedKFold(n_splits=4, random_state=42, shuffle=False) #so I can set a seed"
   ]
  },
  {
   "cell_type": "code",
   "execution_count": 18,
   "metadata": {},
   "outputs": [],
   "source": [
    "f1_score = round(cross_val_score(model, X_train_res, y_train_res, cv=cv_folds, \\\n",
    "scoring='f1_weighted').mean(), 2)\n",
    "\n",
    "accuracy = round(cross_val_score(model, X_train_res, y_train_res, cv=cv_folds, \\\n",
    "scoring='accuracy').mean(), 2)"
   ]
  },
  {
   "cell_type": "code",
   "execution_count": 19,
   "metadata": {},
   "outputs": [
    {
     "name": "stdout",
     "output_type": "stream",
     "text": [
      "accuracy: 0.91\n",
      "f1: 0.9\n"
     ]
    }
   ],
   "source": [
    "print(\"accuracy: {}\".format(accuracy))\n",
    "print(\"f1: {}\".format(f1_score))"
   ]
  },
  {
   "cell_type": "code",
   "execution_count": 23,
   "metadata": {},
   "outputs": [],
   "source": [
    "model.fit(X_train_res, y_train_res)\n",
    "model.score(X_train_res, y_train_res)\n",
    "y_pred = model.predict(X_train_res)"
   ]
  },
  {
   "cell_type": "code",
   "execution_count": 24,
   "metadata": {},
   "outputs": [
    {
     "name": "stdout",
     "output_type": "stream",
     "text": [
      "             precision    recall  f1-score   support\n",
      "\n",
      "          0       0.89      0.99      0.94     11009\n",
      "          1       0.98      0.80      0.88      6972\n",
      "\n",
      "avg / total       0.92      0.92      0.92     17981\n",
      "\n"
     ]
    }
   ],
   "source": [
    "print(classification_report(y_train_res, y_pred))"
   ]
  },
  {
   "cell_type": "code",
   "execution_count": 29,
   "metadata": {},
   "outputs": [],
   "source": [
    "tn, fp, fn, tp = confusion_matrix(y_train_res, y_pred).ravel()"
   ]
  },
  {
   "cell_type": "code",
   "execution_count": 30,
   "metadata": {},
   "outputs": [
    {
     "name": "stdout",
     "output_type": "stream",
     "text": [
      "TP: 5594\n",
      "FP: 105\n",
      "FN: 1378\n",
      "TN: 10904\n"
     ]
    }
   ],
   "source": [
    "print(\"TP: {}\".format(tp))\n",
    "print(\"FP: {}\".format(fp))\n",
    "print(\"FN: {}\".format(fn))\n",
    "print(\"TN: {}\".format(tn))"
   ]
  },
  {
   "cell_type": "code",
   "execution_count": 32,
   "metadata": {},
   "outputs": [],
   "source": [
    "importances = [(score, name) for name, score in zip(X_train.columns, model.feature_importances_)]\n",
    "\n",
    "importances.sort(key=lambda tup: tup[0])\n",
    "importances.reverse()"
   ]
  },
  {
   "cell_type": "code",
   "execution_count": 33,
   "metadata": {},
   "outputs": [
    {
     "name": "stdout",
     "output_type": "stream",
     "text": [
      "[(0.08925136982662595, 'permits'), (0.08026366265663112, 'roof_cover_type_UNKNOWN'), (0.07528485489334469, 'half_bath_count'), (0.07282404785177449, 'bedroom_count'), (0.05029752088666872, 'room_count'), (0.04967402143113683, 'owner_occupied_Owner Occupied'), (0.04912068489368925, 'full_bath_count'), (0.03737806785453802, 'owner_occupied_Standard Rental'), (0.025613505069961948, 'exterior_wall_type_FRAME WOOD/SHAKE'), (0.02499953031537345, 'exterior_wall_type_BRICK VENEER'), (0.024260196167402007, 'heating_type_HOT WATER')]\n"
     ]
    }
   ],
   "source": [
    "print(list(importances)[0:11])"
   ]
  },
  {
   "cell_type": "code",
   "execution_count": null,
   "metadata": {},
   "outputs": [],
   "source": []
  }
 ],
 "metadata": {
  "kernelspec": {
   "display_name": "Python 3",
   "language": "python",
   "name": "python3"
  },
  "language_info": {
   "codemirror_mode": {
    "name": "ipython",
    "version": 3
   },
   "file_extension": ".py",
   "mimetype": "text/x-python",
   "name": "python",
   "nbconvert_exporter": "python",
   "pygments_lexer": "ipython3",
   "version": "3.6.3"
  }
 },
 "nbformat": 4,
 "nbformat_minor": 2
}
