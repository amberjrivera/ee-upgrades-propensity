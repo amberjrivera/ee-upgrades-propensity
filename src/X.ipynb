{
 "cells": [
  {
   "cell_type": "code",
   "execution_count": 1,
   "metadata": {},
   "outputs": [],
   "source": [
    "import pandas as pd\n",
    "import numpy as np\n",
    "import seaborn as sns\n",
    "import matplotlib.pyplot as plt\n",
    "from sklearn.preprocessing import RobustScaler\n",
    "from sklearn.model_selection import train_test_split\n",
    "from preprocessing import *"
   ]
  },
  {
   "cell_type": "code",
   "execution_count": 2,
   "metadata": {},
   "outputs": [],
   "source": [
    "#load raw features data\n",
    "df = pd.read_csv('../data/city.csv', low_memory=False)"
   ]
  },
  {
   "cell_type": "code",
   "execution_count": 3,
   "metadata": {},
   "outputs": [],
   "source": [
    "#Clean up unique identifier\n",
    "df['assessor_id'] = df['assessor_id'].str[1:]"
   ]
  },
  {
   "cell_type": "code",
   "execution_count": 4,
   "metadata": {},
   "outputs": [
    {
     "data": {
      "text/plain": [
       "(18406, 239)"
      ]
     },
     "execution_count": 4,
     "metadata": {},
     "output_type": "execute_result"
    }
   ],
   "source": [
    "# add labels\n",
    "df = add_labels(df);\n",
    "df.shape"
   ]
  },
  {
   "cell_type": "code",
   "execution_count": null,
   "metadata": {},
   "outputs": [],
   "source": [
    "# quick clean \n",
    "df = clean_and_drop(df);\n",
    "df.shape"
   ]
  },
  {
   "cell_type": "code",
   "execution_count": 7,
   "metadata": {},
   "outputs": [],
   "source": [
    "# feature engineer \n",
    "df = feature_engineer(df)"
   ]
  },
  {
   "cell_type": "code",
   "execution_count": 8,
   "metadata": {},
   "outputs": [
    {
     "data": {
      "text/html": [
       "<div>\n",
       "<style scoped>\n",
       "    .dataframe tbody tr th:only-of-type {\n",
       "        vertical-align: middle;\n",
       "    }\n",
       "\n",
       "    .dataframe tbody tr th {\n",
       "        vertical-align: top;\n",
       "    }\n",
       "\n",
       "    .dataframe thead th {\n",
       "        text-align: right;\n",
       "    }\n",
       "</style>\n",
       "<table border=\"1\" class=\"dataframe\">\n",
       "  <thead>\n",
       "    <tr style=\"text-align: right;\">\n",
       "      <th></th>\n",
       "      <th>assessor_id</th>\n",
       "      <th>secondary_building_type</th>\n",
       "      <th>buidling_condition</th>\n",
       "      <th>frame_type</th>\n",
       "      <th>year_built</th>\n",
       "      <th>effective_year_built</th>\n",
       "      <th>bedroom_count</th>\n",
       "      <th>room_count</th>\n",
       "      <th>full_bath_count</th>\n",
       "      <th>half_bath_count</th>\n",
       "      <th>...</th>\n",
       "      <th>owner_occupied</th>\n",
       "      <th>pv_potential_watts</th>\n",
       "      <th>pv_potential_kwhr_yr</th>\n",
       "      <th>zillow_neighborhood</th>\n",
       "      <th>labels</th>\n",
       "      <th>num_upgrades_parcel</th>\n",
       "      <th>num_upgrades_subdivision</th>\n",
       "      <th>num_upgrades_zip</th>\n",
       "      <th>time_since_sale</th>\n",
       "      <th>permits</th>\n",
       "    </tr>\n",
       "  </thead>\n",
       "  <tbody>\n",
       "    <tr>\n",
       "      <th>0</th>\n",
       "      <td>0000005</td>\n",
       "      <td>1 STORY - RANCH</td>\n",
       "      <td>3</td>\n",
       "      <td>MASONRY</td>\n",
       "      <td>1957</td>\n",
       "      <td>1957</td>\n",
       "      <td>3</td>\n",
       "      <td>6</td>\n",
       "      <td>1</td>\n",
       "      <td>1</td>\n",
       "      <td>...</td>\n",
       "      <td>Owner Occupied</td>\n",
       "      <td>282.0</td>\n",
       "      <td>414.0</td>\n",
       "      <td>Table Mesa North</td>\n",
       "      <td>0</td>\n",
       "      <td>193</td>\n",
       "      <td>19</td>\n",
       "      <td>524</td>\n",
       "      <td>5523</td>\n",
       "      <td>1</td>\n",
       "    </tr>\n",
       "    <tr>\n",
       "      <th>1</th>\n",
       "      <td>0000006</td>\n",
       "      <td>2 - 3 STORY</td>\n",
       "      <td>5</td>\n",
       "      <td>FRAME</td>\n",
       "      <td>1925</td>\n",
       "      <td>1985</td>\n",
       "      <td>3</td>\n",
       "      <td>8</td>\n",
       "      <td>2</td>\n",
       "      <td>1</td>\n",
       "      <td>...</td>\n",
       "      <td>Owner Occupied</td>\n",
       "      <td>556.0</td>\n",
       "      <td>815.0</td>\n",
       "      <td>West Hawthorn</td>\n",
       "      <td>0</td>\n",
       "      <td>166</td>\n",
       "      <td>4</td>\n",
       "      <td>502</td>\n",
       "      <td>6969</td>\n",
       "      <td>2</td>\n",
       "    </tr>\n",
       "    <tr>\n",
       "      <th>2</th>\n",
       "      <td>0000007</td>\n",
       "      <td>2 - 3 STORY</td>\n",
       "      <td>9</td>\n",
       "      <td>FRAME</td>\n",
       "      <td>1946</td>\n",
       "      <td>1998</td>\n",
       "      <td>3</td>\n",
       "      <td>9</td>\n",
       "      <td>2</td>\n",
       "      <td>2</td>\n",
       "      <td>...</td>\n",
       "      <td>Owner Occupied</td>\n",
       "      <td>1097.0</td>\n",
       "      <td>1609.0</td>\n",
       "      <td>Newlands</td>\n",
       "      <td>0</td>\n",
       "      <td>74</td>\n",
       "      <td>45</td>\n",
       "      <td>502</td>\n",
       "      <td>4946</td>\n",
       "      <td>1</td>\n",
       "    </tr>\n",
       "    <tr>\n",
       "      <th>3</th>\n",
       "      <td>0000010</td>\n",
       "      <td>1 STORY - RANCH</td>\n",
       "      <td>6</td>\n",
       "      <td>MASONRY</td>\n",
       "      <td>1925</td>\n",
       "      <td>1990</td>\n",
       "      <td>3</td>\n",
       "      <td>6</td>\n",
       "      <td>2</td>\n",
       "      <td>0</td>\n",
       "      <td>...</td>\n",
       "      <td>Owner Occupied</td>\n",
       "      <td>8881.0</td>\n",
       "      <td>13020.0</td>\n",
       "      <td>Newlands</td>\n",
       "      <td>0</td>\n",
       "      <td>74</td>\n",
       "      <td>45</td>\n",
       "      <td>502</td>\n",
       "      <td>1190</td>\n",
       "      <td>1</td>\n",
       "    </tr>\n",
       "    <tr>\n",
       "      <th>4</th>\n",
       "      <td>0000013</td>\n",
       "      <td>1 STORY - RANCH</td>\n",
       "      <td>9</td>\n",
       "      <td>MASONRY</td>\n",
       "      <td>1973</td>\n",
       "      <td>1995</td>\n",
       "      <td>4</td>\n",
       "      <td>9</td>\n",
       "      <td>3</td>\n",
       "      <td>1</td>\n",
       "      <td>...</td>\n",
       "      <td>Standard Rental</td>\n",
       "      <td>432.0</td>\n",
       "      <td>633.0</td>\n",
       "      <td>Carolyn Heights</td>\n",
       "      <td>0</td>\n",
       "      <td>166</td>\n",
       "      <td>3</td>\n",
       "      <td>502</td>\n",
       "      <td>638</td>\n",
       "      <td>1</td>\n",
       "    </tr>\n",
       "  </tbody>\n",
       "</table>\n",
       "<p>5 rows × 81 columns</p>\n",
       "</div>"
      ],
      "text/plain": [
       "  assessor_id secondary_building_type  buidling_condition frame_type  \\\n",
       "0     0000005         1 STORY - RANCH                   3    MASONRY   \n",
       "1     0000006             2 - 3 STORY                   5      FRAME   \n",
       "2     0000007             2 - 3 STORY                   9      FRAME   \n",
       "3     0000010         1 STORY - RANCH                   6    MASONRY   \n",
       "4     0000013         1 STORY - RANCH                   9    MASONRY   \n",
       "\n",
       "   year_built  effective_year_built  bedroom_count  room_count  \\\n",
       "0        1957                  1957              3           6   \n",
       "1        1925                  1985              3           8   \n",
       "2        1946                  1998              3           9   \n",
       "3        1925                  1990              3           6   \n",
       "4        1973                  1995              4           9   \n",
       "\n",
       "   full_bath_count  half_bath_count   ...      owner_occupied  \\\n",
       "0                1                1   ...      Owner Occupied   \n",
       "1                2                1   ...      Owner Occupied   \n",
       "2                2                2   ...      Owner Occupied   \n",
       "3                2                0   ...      Owner Occupied   \n",
       "4                3                1   ...     Standard Rental   \n",
       "\n",
       "  pv_potential_watts pv_potential_kwhr_yr zillow_neighborhood labels  \\\n",
       "0              282.0                414.0    Table Mesa North      0   \n",
       "1              556.0                815.0       West Hawthorn      0   \n",
       "2             1097.0               1609.0            Newlands      0   \n",
       "3             8881.0              13020.0            Newlands      0   \n",
       "4              432.0                633.0     Carolyn Heights      0   \n",
       "\n",
       "  num_upgrades_parcel num_upgrades_subdivision  num_upgrades_zip  \\\n",
       "0                 193                       19               524   \n",
       "1                 166                        4               502   \n",
       "2                  74                       45               502   \n",
       "3                  74                       45               502   \n",
       "4                 166                        3               502   \n",
       "\n",
       "  time_since_sale  permits  \n",
       "0            5523        1  \n",
       "1            6969        2  \n",
       "2            4946        1  \n",
       "3            1190        1  \n",
       "4             638        1  \n",
       "\n",
       "[5 rows x 81 columns]"
      ]
     },
     "execution_count": 8,
     "metadata": {},
     "output_type": "execute_result"
    }
   ],
   "source": [
    "df.head()"
   ]
  },
  {
   "cell_type": "code",
   "execution_count": 9,
   "metadata": {},
   "outputs": [
    {
     "data": {
      "text/plain": [
       "(17351, 81)"
      ]
     },
     "execution_count": 9,
     "metadata": {},
     "output_type": "execute_result"
    }
   ],
   "source": [
    "df.shape"
   ]
  },
  {
   "cell_type": "code",
   "execution_count": null,
   "metadata": {},
   "outputs": [],
   "source": [
    "# impute numerical\n",
    "df = impute(df)"
   ]
  },
  {
   "cell_type": "code",
   "execution_count": null,
   "metadata": {},
   "outputs": [],
   "source": [
    "# categorical columns to impute with mode\n",
    "cols = ['exterior_wall_type', 'frame_type', 'heating_type', 'interior_wall_type', 'land_use']"
   ]
  },
  {
   "cell_type": "code",
   "execution_count": null,
   "metadata": {},
   "outputs": [],
   "source": [
    "df = cat_impute(df, cols)"
   ]
  },
  {
   "cell_type": "code",
   "execution_count": null,
   "metadata": {},
   "outputs": [],
   "source": [
    "# get dummies\n",
    "dummy_cols = [\n",
    "    'ac_type',\n",
    "    'exterior_wall_type', \n",
    "    'frame_type',\n",
    "    'heating_type',\n",
    "    'interior_wall_type',\n",
    "    'land_use', \n",
    "    'nrel_attached_garage',\n",
    "    'nrel_foundation',\n",
    "    'nrel_heating_fuel',\n",
    "    'nrel_size',\n",
    "    'nrel_vintage',\n",
    "    'owner_occupied',\n",
    "    'primary_building_type',\n",
    "    'roof_cover_type',\n",
    "    'secondary_building_type',\n",
    "    'site_type',\n",
    "    'zillow_neighborhood'\n",
    "]"
   ]
  },
  {
   "cell_type": "code",
   "execution_count": null,
   "metadata": {},
   "outputs": [],
   "source": [
    "df = pd.get_dummies(df, columns=dummy_cols, drop_first=True)"
   ]
  },
  {
   "cell_type": "code",
   "execution_count": null,
   "metadata": {},
   "outputs": [],
   "source": [
    "type(df)"
   ]
  },
  {
   "cell_type": "code",
   "execution_count": null,
   "metadata": {},
   "outputs": [],
   "source": [
    "df.shape"
   ]
  },
  {
   "cell_type": "code",
   "execution_count": null,
   "metadata": {},
   "outputs": [],
   "source": [
    "df.isnull().sum().sum()"
   ]
  },
  {
   "cell_type": "code",
   "execution_count": null,
   "metadata": {},
   "outputs": [],
   "source": [
    "pos = sum(df['labels'] == 1)\n",
    "len(df[df['labels'] == 1])"
   ]
  },
  {
   "cell_type": "code",
   "execution_count": null,
   "metadata": {},
   "outputs": [],
   "source": [
    "pos / df.shape[0]  #9.4% of data in positive class"
   ]
  },
  {
   "cell_type": "code",
   "execution_count": null,
   "metadata": {},
   "outputs": [],
   "source": [
    "# undersample majority class to handle class imbalance\n",
    "df = balance(df)"
   ]
  },
  {
   "cell_type": "code",
   "execution_count": null,
   "metadata": {},
   "outputs": [],
   "source": [
    "df.shape"
   ]
  },
  {
   "cell_type": "code",
   "execution_count": null,
   "metadata": {},
   "outputs": [],
   "source": [
    "# Get to X\n",
    "y = df.pop('labels')\n",
    "X = df"
   ]
  },
  {
   "cell_type": "code",
   "execution_count": null,
   "metadata": {},
   "outputs": [],
   "source": [
    "X.shape"
   ]
  },
  {
   "cell_type": "code",
   "execution_count": null,
   "metadata": {},
   "outputs": [],
   "source": []
  },
  {
   "cell_type": "code",
   "execution_count": null,
   "metadata": {},
   "outputs": [],
   "source": [
    "compare = pd.read_csv('../data/city.csv', low_memory=False)"
   ]
  },
  {
   "cell_type": "code",
   "execution_count": null,
   "metadata": {},
   "outputs": [],
   "source": [
    "compare = pd.get_dummies(compare, columns=dummy_cols, drop_first=True)"
   ]
  },
  {
   "cell_type": "code",
   "execution_count": null,
   "metadata": {},
   "outputs": [],
   "source": [
    "compare.shape"
   ]
  },
  {
   "cell_type": "code",
   "execution_count": null,
   "metadata": {},
   "outputs": [],
   "source": [
    "363-207"
   ]
  },
  {
   "cell_type": "code",
   "execution_count": null,
   "metadata": {},
   "outputs": [],
   "source": []
  },
  {
   "cell_type": "code",
   "execution_count": null,
   "metadata": {},
   "outputs": [],
   "source": [
    "X_train, X_test, y_train, y_test = train_test_split(X, y, test_size=0.33)"
   ]
  },
  {
   "cell_type": "code",
   "execution_count": null,
   "metadata": {},
   "outputs": [],
   "source": [
    "X_train.shape"
   ]
  },
  {
   "cell_type": "code",
   "execution_count": null,
   "metadata": {},
   "outputs": [],
   "source": [
    "X_train.shape"
   ]
  },
  {
   "cell_type": "code",
   "execution_count": null,
   "metadata": {},
   "outputs": [],
   "source": []
  },
  {
   "cell_type": "code",
   "execution_count": null,
   "metadata": {},
   "outputs": [],
   "source": []
  }
 ],
 "metadata": {
  "kernelspec": {
   "display_name": "Python 3",
   "language": "python",
   "name": "python3"
  },
  "language_info": {
   "codemirror_mode": {
    "name": "ipython",
    "version": 3
   },
   "file_extension": ".py",
   "mimetype": "text/x-python",
   "name": "python",
   "nbconvert_exporter": "python",
   "pygments_lexer": "ipython3",
   "version": "3.6.3"
  }
 },
 "nbformat": 4,
 "nbformat_minor": 2
}
